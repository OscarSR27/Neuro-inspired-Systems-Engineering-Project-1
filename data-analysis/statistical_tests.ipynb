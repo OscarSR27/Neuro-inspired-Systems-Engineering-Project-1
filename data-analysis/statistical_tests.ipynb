{
 "cells": [
  {
   "cell_type": "code",
   "execution_count": 17,
   "metadata": {},
   "outputs": [],
   "source": [
    "import scipy.stats as sp\n",
    "\n",
    "\"\"\"\n",
    "FSR learning curve ITR results\n",
    "id,pre_train,session1,session2,session3,post_train\n",
    "0,25.171812012853444,17.117811769112098,18.842559791456267,16.245112497836526,22.22534479580968\n",
    "1,23.54374234441167,25.723018075983475,18.31802600277588,18.842559791456267,31.88372442538586\n",
    "\n",
    "\"\"\"\n",
    "pretrain=[23.54374234441167, 25.171812012853444]\n",
    "posttrain=[31.88372442538586, 22.22534479580968]\n",
    "res=sp.ttest_rel(pretrain, posttrain)"
   ]
  },
  {
   "cell_type": "code",
   "execution_count": 11,
   "metadata": {},
   "outputs": [
    {
     "name": "stdout",
     "output_type": "stream",
     "text": [
      "Ttest_indResult(statistic=-0.5506600228192373, pvalue=0.6755387079338114)\n"
     ]
    }
   ],
   "source": [
    "print(res)"
   ]
  }
 ],
 "metadata": {
  "kernelspec": {
   "display_name": "intro",
   "language": "python",
   "name": "python3"
  },
  "language_info": {
   "codemirror_mode": {
    "name": "ipython",
    "version": 3
   },
   "file_extension": ".py",
   "mimetype": "text/x-python",
   "name": "python",
   "nbconvert_exporter": "python",
   "pygments_lexer": "ipython3",
   "version": "3.8.10"
  }
 },
 "nbformat": 4,
 "nbformat_minor": 2
}
